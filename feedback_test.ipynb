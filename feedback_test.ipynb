{
 "cells": [
  {
   "cell_type": "code",
   "execution_count": 1,
   "metadata": {},
   "outputs": [],
   "source": [
    "import numpy as np\n",
    "from pandas import Series, DataFrame\n",
    "import datetime"
   ]
  },
  {
   "cell_type": "code",
   "execution_count": 2,
   "metadata": {},
   "outputs": [],
   "source": [
    "import feedback_option as fo\n",
    "pd.options.display.max_rows = 20"
   ]
  },
  {
   "cell_type": "code",
   "execution_count": 3,
   "metadata": {},
   "outputs": [
    {
     "data": {
      "text/plain": [
       "<module 'feedback_data' from 'G:\\\\pythonproject\\\\bus_sys_dst\\\\feedback_data.py'>"
      ]
     },
     "execution_count": 3,
     "metadata": {},
     "output_type": "execute_result"
    }
   ],
   "source": [
    "import feedback_data as fd\n",
    "import imp\n",
    "imp.reload(fd)"
   ]
  },
  {
   "cell_type": "code",
   "execution_count": 13,
   "metadata": {},
   "outputs": [
    {
     "data": {
      "text/plain": [
       "<module 'feedback_option' from 'G:\\\\pythonproject\\\\bus_sys_dst\\\\feedback_option.py'>"
      ]
     },
     "execution_count": 13,
     "metadata": {},
     "output_type": "execute_result"
    }
   ],
   "source": [
    "imp.reload(fo)"
   ]
  },
  {
   "cell_type": "code",
   "execution_count": 14,
   "metadata": {},
   "outputs": [
    {
     "name": "stdout",
     "output_type": "stream",
     "text": [
      "['21']\n",
      "['83']\n",
      "['83']\n",
      "['155']\n",
      "['67']\n",
      "['57']\n",
      "['90']\n",
      "['103']\n",
      "['136']\n",
      "['199']\n",
      "['35']\n",
      "['30']\n",
      "['31']\n",
      "['149']\n",
      "['101', '2']\n",
      "['101']\n",
      "['1']\n",
      "['17']\n",
      "['17', '2']\n",
      "['28']\n",
      "['501']\n",
      "['161']\n",
      "['105']\n",
      "['107']\n",
      "['8']\n",
      "['108']\n",
      "['22']\n",
      "['106']\n",
      "['200']\n",
      "['81']\n",
      "['12']\n",
      "['50']\n",
      "['98']\n",
      "['15']\n",
      "['23']\n",
      "['88']\n",
      "['60']\n",
      "['63']\n",
      "['193']\n",
      "['7']\n",
      "['14']\n",
      "['112']\n",
      "['113']\n",
      "['115']\n",
      "['162']\n",
      "['502']\n"
     ]
    }
   ],
   "source": [
    "_date=datetime.datetime(2019,6,1)\n",
    "fo.execute(source_path=\"example_data//feedback//6月原始\",output_path=\"G://pythonproject//bus_sys_dst//output//\",date=_date,target_by=\"车号\")"
   ]
  },
  {
   "cell_type": "code",
   "execution_count": null,
   "metadata": {},
   "outputs": [],
   "source": []
  }
 ],
 "metadata": {
  "kernelspec": {
   "display_name": "Python 3",
   "language": "python",
   "name": "python3"
  },
  "language_info": {
   "codemirror_mode": {
    "name": "ipython",
    "version": 3
   },
   "file_extension": ".py",
   "mimetype": "text/x-python",
   "name": "python",
   "nbconvert_exporter": "python",
   "pygments_lexer": "ipython3",
   "version": "3.6.3"
  }
 },
 "nbformat": 4,
 "nbformat_minor": 2
}

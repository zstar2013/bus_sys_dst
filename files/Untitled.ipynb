{
 "cells": [
  {
   "cell_type": "code",
   "execution_count": 7,
   "metadata": {},
   "outputs": [],
   "source": [
    "import os"
   ]
  },
  {
   "cell_type": "code",
   "execution_count": 2,
   "metadata": {},
   "outputs": [
    {
     "data": {
      "text/plain": [
       "'G:\\\\pythonproject\\\\bus_sys_dst\\\\files'"
      ]
     },
     "execution_count": 2,
     "metadata": {},
     "output_type": "execute_result"
    },
    {
     "data": {
      "text/plain": [
       "['Untitled.ipynb', '.ipynb_checkpoints', 'source', 'target']"
      ]
     },
     "execution_count": 2,
     "metadata": {},
     "output_type": "execute_result"
    }
   ],
   "source": [
    "os.getcwd()\n",
    "os.listdir()"
   ]
  },
  {
   "cell_type": "code",
   "execution_count": 3,
   "metadata": {},
   "outputs": [],
   "source": [
    "path_source=\"G:\\\\pythonproject\\\\bus_sys_dst\\\\files\\\\source\"\n",
    "path_target=\"G:\\\\pythonproject\\\\bus_sys_dst\\\\files\\\\target\""
   ]
  },
  {
   "cell_type": "code",
   "execution_count": 4,
   "metadata": {},
   "outputs": [
    {
     "data": {
      "text/plain": [
       "['1.txt', '2.txt', 'aaa.txt']"
      ]
     },
     "execution_count": 4,
     "metadata": {},
     "output_type": "execute_result"
    },
    {
     "data": {
      "text/plain": [
       "['aaa.zip', '2.zip', '1.zip']"
      ]
     },
     "execution_count": 4,
     "metadata": {},
     "output_type": "execute_result"
    }
   ],
   "source": [
    "os.listdir(path_source)\n",
    "os.listdir(path_target)"
   ]
  },
  {
   "cell_type": "code",
   "execution_count": 7,
   "metadata": {},
   "outputs": [
    {
     "name": "stdout",
     "output_type": "stream",
     "text": [
      "0\n"
     ]
    }
   ],
   "source": [
    "\n"
   ]
  },
  {
   "cell_type": "code",
   "execution_count": 27,
   "metadata": {},
   "outputs": [
    {
     "data": {
      "text/plain": [
       "<_sre.SRE_Match object; span=(0, 16), match='(ゲームCG) [160729]'>"
      ]
     },
     "execution_count": 27,
     "metadata": {},
     "output_type": "execute_result"
    }
   ],
   "source": [
    "import re\n",
    "pattern=\"\\(ゲームCG\\) \\[\\d{6}\\]\"\n",
    "string=\"(ゲームCG) [160729] [パープルソフトウェア] アマツツミ\"\n",
    "result=re.search(pattern,string)\n",
    "result"
   ]
  },
  {
   "cell_type": "code",
   "execution_count": 2,
   "metadata": {},
   "outputs": [],
   "source": [
    "def check_diff(path_a,path_b,suffix_a='.txt',suffix_b='.zip'):\n",
    "    list_a=[]\n",
    "    list_b=[]\n",
    "    for root, dirs, files in os.walk(path_a, topdown=False):\n",
    "        for file in files:\n",
    "            if os.path.splitext(file)[1] == suffix_a:\n",
    "                list_a.append(os.path.splitext(file)[0])\n",
    "    for root, dirs, files in os.walk(path_b, topdown=False):\n",
    "        for file in files:\n",
    "            if os.path.splitext(file)[1] == suffix_b:\n",
    "                list_b.append(os.path.splitext(file)[0])\n",
    "    diff = set(list_a).difference(set(list_b))# 差集，在a中但不在b中的元素\n",
    "    print(len(diff))\n",
    "    for name in diff:\n",
    "        print(\"no\" ,suffix_a[1:]+ name + suffix_a)\n",
    "    diff2 = set(list_b).difference(set(list_a))# 差集，在b中但不在a中的元素\n",
    "    print(len(diff2))\n",
    "    for name in diff2:\n",
    "        print(\"no\" ,suffix_b[1:]+ name + suffix_b)"
   ]
  },
  {
   "cell_type": "code",
   "execution_count": 3,
   "metadata": {},
   "outputs": [],
   "source": [
    "path_source=\"G:\\\\pythonproject\\\\bus_sys_dst\\\\files\\\\source\"\n",
    "path_target=\"G:\\\\pythonproject\\\\bus_sys_dst\\\\files\\\\target\""
   ]
  },
  {
   "cell_type": "code",
   "execution_count": 8,
   "metadata": {},
   "outputs": [
    {
     "name": "stdout",
     "output_type": "stream",
     "text": [
      "0\n",
      "0\n"
     ]
    }
   ],
   "source": [
    "check_diff(path_source,path_target)"
   ]
  },
  {
   "cell_type": "code",
   "execution_count": null,
   "metadata": {},
   "outputs": [],
   "source": []
  }
 ],
 "metadata": {
  "kernelspec": {
   "display_name": "Python 3",
   "language": "python",
   "name": "python3"
  },
  "language_info": {
   "codemirror_mode": {
    "name": "ipython",
    "version": 3
   },
   "file_extension": ".py",
   "mimetype": "text/x-python",
   "name": "python",
   "nbconvert_exporter": "python",
   "pygments_lexer": "ipython3",
   "version": "3.6.2"
  }
 },
 "nbformat": 4,
 "nbformat_minor": 2
}

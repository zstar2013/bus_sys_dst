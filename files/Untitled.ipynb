{
 "cells": [
  {
   "cell_type": "code",
   "execution_count": 1,
   "metadata": {},
   "outputs": [],
   "source": [
    "import os"
   ]
  },
  {
   "cell_type": "code",
   "execution_count": 2,
   "metadata": {},
   "outputs": [
    {
     "data": {
      "text/plain": [
       "'D:\\\\python_projects\\\\bus_sys_dst\\\\files'"
      ]
     },
     "execution_count": 2,
     "metadata": {},
     "output_type": "execute_result"
    },
    {
     "data": {
      "text/plain": [
       "['.ipynb_checkpoints', 'source', 'target', 'Untitled.ipynb']"
      ]
     },
     "execution_count": 2,
     "metadata": {},
     "output_type": "execute_result"
    }
   ],
   "source": [
    "os.getcwd()\n",
    "os.listdir()"
   ]
  },
  {
   "cell_type": "code",
   "execution_count": 3,
   "metadata": {},
   "outputs": [],
   "source": [
    "path_source=\"G:\\\\pythonproject\\\\bus_sys_dst\\\\files\\\\source\"\n",
    "path_target=\"G:\\\\pythonproject\\\\bus_sys_dst\\\\files\\\\target\""
   ]
  },
  {
   "cell_type": "code",
   "execution_count": 4,
   "metadata": {},
   "outputs": [
    {
     "data": {
      "text/plain": [
       "['1.txt', '2.txt', 'aaa.txt', 'aaa']"
      ]
     },
     "execution_count": 4,
     "metadata": {},
     "output_type": "execute_result"
    },
    {
     "data": {
      "text/plain": [
       "['aaa.zip', '2.zip', '1.zip']"
      ]
     },
     "execution_count": 4,
     "metadata": {},
     "output_type": "execute_result"
    }
   ],
   "source": [
    "os.listdir(path_source)\n",
    "os.listdir(path_target)"
   ]
  },
  {
   "cell_type": "code",
   "execution_count": 5,
   "metadata": {},
   "outputs": [
    {
     "data": {
      "text/plain": [
       "<_sre.SRE_Match object; span=(0, 16), match='(ゲームCG) [160729]'>"
      ]
     },
     "execution_count": 5,
     "metadata": {},
     "output_type": "execute_result"
    }
   ],
   "source": [
    "import re\n",
    "pattern=\"\\(ゲームCG\\) \\[\\d{6}\\]\"\n",
    "string=\"(ゲームCG) [160729] [パープルソフトウェア] アマツツミ\"\n",
    "result=re.search(pattern,string)\n",
    "result"
   ]
  },
  {
   "cell_type": "code",
   "execution_count": 22,
   "metadata": {},
   "outputs": [],
   "source": [
    "def check_diff(path_a,path_b,suffix_a='.txt',suffix_b='.zip'):\n",
    "    list_a=[]\n",
    "    list_b=[]\n",
    "    for root, dirs, files in os.walk(path_a, topdown=False):\n",
    "        for file in files:\n",
    "            if os.path.splitext(file)[1] == suffix_a:\n",
    "                list_a.append(os.path.splitext(file)[0])\n",
    "    for root, dirs, files in os.walk(path_b, topdown=False):\n",
    "        for file in files:\n",
    "            if os.path.splitext(file)[1] == suffix_b:\n",
    "                list_b.append(os.path.splitext(file)[0])\n",
    "    print(\"a\",set(list_a))\n",
    "    print(\"b\",set(list_b))\n",
    "    diff = set(list_a).difference(set(list_b))# 差集，在a中但不在b中的元素\n",
    "    print(len(diff))\n",
    "    for name in diff:\n",
    "        print(\"no\" ,suffix_b[1:]+\"  \"+name + suffix_b)\n",
    "    diff2 = set(list_b).difference(set(list_a))# 差集，在b中但不在a中的元素\n",
    "    print(len(diff2))\n",
    "    for name in diff2:\n",
    "        print(\"no\" ,suffix_a[1:]+\"  \"+ name + suffix_a)"
   ]
  },
  {
   "cell_type": "code",
   "execution_count": 23,
   "metadata": {},
   "outputs": [],
   "source": [
    "path_source=\"G:\\\\pythonproject\\\\bus_sys_dst\\\\files\\\\source\"\n",
    "path_target=\"G:\\\\pythonproject\\\\bus_sys_dst\\\\files\\\\target\""
   ]
  },
  {
   "cell_type": "code",
   "execution_count": 51,
   "metadata": {},
   "outputs": [],
   "source": [
    "def check_diff2(path_a,path_b,suffix='.zip'):\n",
    "    list_a=[]\n",
    "    list_b=[]\n",
    "    \n",
    "    for file in os.listdir(path_source):\n",
    "        if os.path.isdir(os.path.join(path_source,file)):\n",
    "            list_a.append(file)\n",
    "    for root, dirs, files in os.walk(path_b, topdown=False):\n",
    "        for file in files:\n",
    "            if os.path.splitext(file)[1] == suffix:\n",
    "                list_b.append(os.path.splitext(file)[0])\n",
    "    print(\"a\",set(list_a))\n",
    "    print(\"b\",set(list_b))\n",
    "    diff = set(list_a).difference(set(list_b))# 差集，在a中但不在b中的元素\n",
    "    print(len(diff))\n",
    "    for name in diff:\n",
    "        print(\"no\" ,suffix[1:]+\"  \"+name + suffix)\n",
    "    diff2 = set(list_b).difference(set(list_a))# 差集，在b中但不在a中的元素\n",
    "    print(len(diff2))\n",
    "    for name in diff2:\n",
    "        print(\"no dir：  \"+ name)"
   ]
  },
  {
   "cell_type": "code",
   "execution_count": 52,
   "metadata": {},
   "outputs": [],
   "source": [
    "path_source=\"G:\\\\pythonproject\\\\bus_sys_dst\\\\files\\\\source\"\n",
    "path_target=\"G:\\\\pythonproject\\\\bus_sys_dst\\\\files\\\\target\""
   ]
  },
  {
   "cell_type": "code",
   "execution_count": 53,
   "metadata": {},
   "outputs": [
    {
     "name": "stdout",
     "output_type": "stream",
     "text": [
      "a {'aaa'}\n",
      "b {'aaa', '1', '2'}\n",
      "0\n",
      "2\n",
      "no dir：  1\n",
      "no dir：  2\n"
     ]
    }
   ],
   "source": [
    "check_diff2(path_source,path_target)"
   ]
  },
  {
   "cell_type": "code",
   "execution_count": 33,
   "metadata": {},
   "outputs": [
    {
     "name": "stdout",
     "output_type": "stream",
     "text": [
      "[]\n",
      "['bbb']\n",
      "['aaa']\n"
     ]
    }
   ],
   "source": [
    "for root, dirs, files in os.walk(path_source,topdown=False):\n",
    "    print(dirs)"
   ]
  },
  {
   "cell_type": "code",
   "execution_count": 35,
   "metadata": {},
   "outputs": [
    {
     "data": {
      "text/plain": [
       "['1.txt', '2.txt', 'aaa.txt', 'aaa']"
      ]
     },
     "execution_count": 35,
     "metadata": {},
     "output_type": "execute_result"
    }
   ],
   "source": [
    "os.listdir(path_source)"
   ]
  },
  {
   "cell_type": "code",
   "execution_count": 56,
   "metadata": {},
   "outputs": [],
   "source": [
    "import zipfile\n",
    "def zipDir(dirpath,outFullName):\n",
    "    \"\"\"\n",
    "    压缩指定文件夹\n",
    "    :param dirpath: 目标文件夹路径\n",
    "    :param outFullName: 压缩文件保存路径+xxxx.zip\n",
    "    :return: 无\n",
    "    \"\"\"\n",
    "    zip = zipfile.ZipFile(outFullName,\"w\",zipfile.ZIP_DEFLATED)\n",
    "    for path,dirnames,filenames in os.walk(dirpath):\n",
    "        # 去掉目标跟路径，只对目标文件夹下边的文件及文件夹进行压缩\n",
    "        fpath = path.replace(dirpath,'')\n",
    "\n",
    "        for filename in filenames:\n",
    "            zip.write(os.path.join(path,filename),os.path.join(fpath,filename))\n",
    "    zip.close()"
   ]
  },
  {
   "cell_type": "code",
   "execution_count": 57,
   "metadata": {},
   "outputs": [],
   "source": [
    "zipDir(\"G:\\\\pythonproject\\\\bus_sys_dst\\\\files\\\\source\",\"G:\\\\pythonproject\\\\bus_sys_dst\\\\files\\\\target\\\\123.zip\")"
   ]
  },
  {
   "cell_type": "code",
   "execution_count": 1,
   "metadata": {},
   "outputs": [],
   "source": [
    "import os\n",
    "import locale\n",
    "import subprocess"
   ]
  },
  {
   "cell_type": "code",
   "execution_count": 5,
   "metadata": {},
   "outputs": [
    {
     "ename": "UnicodeDecodeError",
     "evalue": "'gbk' codec can't decode byte 0xae in position 1673: illegal multibyte sequence",
     "output_type": "error",
     "traceback": [
      "\u001b[1;31m---------------------------------------------------------------------------\u001b[0m",
      "\u001b[1;31mUnicodeDecodeError\u001b[0m                        Traceback (most recent call last)",
      "\u001b[1;32m<ipython-input-5-279000acd24d>\u001b[0m in \u001b[0;36m<module>\u001b[1;34m\u001b[0m\n\u001b[0;32m      5\u001b[0m \u001b[1;31m#f_read_decode=f_read.decode('gbk')\u001b[0m\u001b[1;33m\u001b[0m\u001b[1;33m\u001b[0m\u001b[0m\n\u001b[0;32m      6\u001b[0m \u001b[1;31m#print(f_read_decode)\u001b[0m\u001b[1;33m\u001b[0m\u001b[1;33m\u001b[0m\u001b[0m\n\u001b[1;32m----> 7\u001b[1;33m \u001b[0md\u001b[0m \u001b[1;33m=\u001b[0m \u001b[0mf\u001b[0m\u001b[1;33m.\u001b[0m\u001b[0mread\u001b[0m\u001b[1;33m(\u001b[0m\u001b[1;33m)\u001b[0m  \u001b[1;31m# 读文件\u001b[0m\u001b[1;33m\u001b[0m\u001b[0m\n\u001b[0m\u001b[0;32m      8\u001b[0m \u001b[0mprint\u001b[0m\u001b[1;33m(\u001b[0m\u001b[0md\u001b[0m\u001b[1;33m)\u001b[0m\u001b[1;33m\u001b[0m\u001b[0m\n\u001b[0;32m      9\u001b[0m \u001b[0mprint\u001b[0m\u001b[1;33m(\u001b[0m\u001b[0mtype\u001b[0m\u001b[1;33m(\u001b[0m\u001b[0md\u001b[0m\u001b[1;33m)\u001b[0m\u001b[1;33m)\u001b[0m\u001b[1;33m\u001b[0m\u001b[0m\n",
      "\u001b[1;31mUnicodeDecodeError\u001b[0m: 'gbk' codec can't decode byte 0xae in position 1673: illegal multibyte sequence"
     ]
    }
   ],
   "source": [
    "#os.popen(\"chcp 65001\")\n",
    "f = os.popen(\"..\\\\adb\\\\adb shell ls /mnt/sdcard/EhViewer/download\")\n",
    "#C:\\\\Users\\\\ajbzx\n",
    "#f_read=f.read()\n",
    "#f_read_decode=f_read.decode('gbk')\n",
    "#print(f_read_decode)\n",
    "d = f.read()  # 读文件\n",
    "print(d)\n",
    "print(type(d))\n",
    "f.close()"
   ]
  },
  {
   "cell_type": "code",
   "execution_count": 16,
   "metadata": {},
   "outputs": [
    {
     "ename": "UnicodeDecodeError",
     "evalue": "'gbk' codec can't decode byte 0xae in position 1673: illegal multibyte sequence",
     "output_type": "error",
     "traceback": [
      "\u001b[1;31m---------------------------------------------------------------------------\u001b[0m",
      "\u001b[1;31mUnicodeDecodeError\u001b[0m                        Traceback (most recent call last)",
      "\u001b[1;32m<ipython-input-16-4a729f329e8a>\u001b[0m in \u001b[0;36m<module>\u001b[1;34m\u001b[0m\n\u001b[0;32m      3\u001b[0m \u001b[1;32mwhile\u001b[0m \u001b[1;32mTrue\u001b[0m\u001b[1;33m:\u001b[0m\u001b[1;33m\u001b[0m\u001b[0m\n\u001b[0;32m      4\u001b[0m     \u001b[1;31m# 每次读取一个字符\u001b[0m\u001b[1;33m\u001b[0m\u001b[1;33m\u001b[0m\u001b[0m\n\u001b[1;32m----> 5\u001b[1;33m     \u001b[0mch\u001b[0m \u001b[1;33m=\u001b[0m \u001b[0mf\u001b[0m\u001b[1;33m.\u001b[0m\u001b[0mread\u001b[0m\u001b[1;33m(\u001b[0m\u001b[1;36m1\u001b[0m\u001b[1;33m)\u001b[0m\u001b[1;33m.\u001b[0m\u001b[0mencode\u001b[0m\u001b[1;33m(\u001b[0m\u001b[1;34m\"utf8\"\u001b[0m\u001b[1;33m)\u001b[0m\u001b[1;33m\u001b[0m\u001b[0m\n\u001b[0m\u001b[0;32m      6\u001b[0m     \u001b[1;31m# 如果没有读到数据，跳出循环\u001b[0m\u001b[1;33m\u001b[0m\u001b[1;33m\u001b[0m\u001b[0m\n\u001b[0;32m      7\u001b[0m     \u001b[1;32mif\u001b[0m \u001b[1;32mnot\u001b[0m \u001b[0mch\u001b[0m\u001b[1;33m:\u001b[0m\u001b[1;33m\u001b[0m\u001b[0m\n",
      "\u001b[1;31mUnicodeDecodeError\u001b[0m: 'gbk' codec can't decode byte 0xae in position 1673: illegal multibyte sequence"
     ]
    }
   ],
   "source": [
    "f = os.popen(\"..\\\\adb\\\\adb shell ls /mnt/sdcard/EhViewer/download\",'r')\n",
    "\n",
    "while True:\n",
    "    # 每次读取一个字符\n",
    "    ch = f.read(1).encode(\"utf8\")\n",
    "    # 如果没有读到数据，跳出循环\n",
    "    if not ch:\n",
    "        break\n",
    "    # 输出ch\n",
    "    print(ch, end='')\n",
    "\n",
    "f.close()"
   ]
  },
  {
   "cell_type": "code",
   "execution_count": 6,
   "metadata": {},
   "outputs": [
    {
     "ename": "UnicodeDecodeError",
     "evalue": "'gbk' codec can't decode byte 0xae in position 1673: illegal multibyte sequence",
     "output_type": "error",
     "traceback": [
      "\u001b[1;31m---------------------------------------------------------------------------\u001b[0m",
      "\u001b[1;31mUnicodeDecodeError\u001b[0m                        Traceback (most recent call last)",
      "\u001b[1;32m<ipython-input-6-80f0b0c77f42>\u001b[0m in \u001b[0;36m<module>\u001b[1;34m\u001b[0m\n\u001b[0;32m      7\u001b[0m \u001b[1;33m\u001b[0m\u001b[0m\n\u001b[0;32m      8\u001b[0m \u001b[1;31m#如下两种都可以运行\u001b[0m\u001b[1;33m\u001b[0m\u001b[1;33m\u001b[0m\u001b[0m\n\u001b[1;32m----> 9\u001b[1;33m \u001b[0mp\u001b[0m\u001b[1;33m=\u001b[0m\u001b[0msubprocess\u001b[0m\u001b[1;33m.\u001b[0m\u001b[0mgetoutput\u001b[0m\u001b[1;33m(\u001b[0m\u001b[0mcmd\u001b[0m\u001b[1;33m)\u001b[0m\u001b[1;31m#,stdout=subprocess.PIPE,stderr=subprocess.PIPE, shell=True\u001b[0m\u001b[1;33m\u001b[0m\u001b[0m\n\u001b[0m\u001b[0;32m     10\u001b[0m \u001b[0mprint\u001b[0m\u001b[1;33m(\u001b[0m\u001b[0mp\u001b[0m\u001b[1;33m)\u001b[0m\u001b[1;33m\u001b[0m\u001b[0m\n",
      "\u001b[1;32mc:\\users\\administrator\\appdata\\local\\programs\\python\\python36\\lib\\subprocess.py\u001b[0m in \u001b[0;36mgetoutput\u001b[1;34m(cmd)\u001b[0m\n\u001b[0;32m    534\u001b[0m     \u001b[1;34m'/bin/ls'\u001b[0m\u001b[1;33m\u001b[0m\u001b[0m\n\u001b[0;32m    535\u001b[0m     \"\"\"\n\u001b[1;32m--> 536\u001b[1;33m     \u001b[1;32mreturn\u001b[0m \u001b[0mgetstatusoutput\u001b[0m\u001b[1;33m(\u001b[0m\u001b[0mcmd\u001b[0m\u001b[1;33m)\u001b[0m\u001b[1;33m[\u001b[0m\u001b[1;36m1\u001b[0m\u001b[1;33m]\u001b[0m\u001b[1;33m\u001b[0m\u001b[0m\n\u001b[0m\u001b[0;32m    537\u001b[0m \u001b[1;33m\u001b[0m\u001b[0m\n\u001b[0;32m    538\u001b[0m \u001b[1;33m\u001b[0m\u001b[0m\n",
      "\u001b[1;32mc:\\users\\administrator\\appdata\\local\\programs\\python\\python36\\lib\\subprocess.py\u001b[0m in \u001b[0;36mgetstatusoutput\u001b[1;34m(cmd)\u001b[0m\n\u001b[0;32m    515\u001b[0m     \"\"\"\n\u001b[0;32m    516\u001b[0m     \u001b[1;32mtry\u001b[0m\u001b[1;33m:\u001b[0m\u001b[1;33m\u001b[0m\u001b[0m\n\u001b[1;32m--> 517\u001b[1;33m         \u001b[0mdata\u001b[0m \u001b[1;33m=\u001b[0m \u001b[0mcheck_output\u001b[0m\u001b[1;33m(\u001b[0m\u001b[0mcmd\u001b[0m\u001b[1;33m,\u001b[0m \u001b[0mshell\u001b[0m\u001b[1;33m=\u001b[0m\u001b[1;32mTrue\u001b[0m\u001b[1;33m,\u001b[0m \u001b[0muniversal_newlines\u001b[0m\u001b[1;33m=\u001b[0m\u001b[1;32mTrue\u001b[0m\u001b[1;33m,\u001b[0m \u001b[0mstderr\u001b[0m\u001b[1;33m=\u001b[0m\u001b[0mSTDOUT\u001b[0m\u001b[1;33m)\u001b[0m\u001b[1;33m\u001b[0m\u001b[0m\n\u001b[0m\u001b[0;32m    518\u001b[0m         \u001b[0mexitcode\u001b[0m \u001b[1;33m=\u001b[0m \u001b[1;36m0\u001b[0m\u001b[1;33m\u001b[0m\u001b[0m\n\u001b[0;32m    519\u001b[0m     \u001b[1;32mexcept\u001b[0m \u001b[0mCalledProcessError\u001b[0m \u001b[1;32mas\u001b[0m \u001b[0mex\u001b[0m\u001b[1;33m:\u001b[0m\u001b[1;33m\u001b[0m\u001b[0m\n",
      "\u001b[1;32mc:\\users\\administrator\\appdata\\local\\programs\\python\\python36\\lib\\subprocess.py\u001b[0m in \u001b[0;36mcheck_output\u001b[1;34m(timeout, *popenargs, **kwargs)\u001b[0m\n\u001b[0;32m    334\u001b[0m \u001b[1;33m\u001b[0m\u001b[0m\n\u001b[0;32m    335\u001b[0m     return run(*popenargs, stdout=PIPE, timeout=timeout, check=True,\n\u001b[1;32m--> 336\u001b[1;33m                **kwargs).stdout\n\u001b[0m\u001b[0;32m    337\u001b[0m \u001b[1;33m\u001b[0m\u001b[0m\n\u001b[0;32m    338\u001b[0m \u001b[1;33m\u001b[0m\u001b[0m\n",
      "\u001b[1;32mc:\\users\\administrator\\appdata\\local\\programs\\python\\python36\\lib\\subprocess.py\u001b[0m in \u001b[0;36mrun\u001b[1;34m(input, timeout, check, *popenargs, **kwargs)\u001b[0m\n\u001b[0;32m    403\u001b[0m     \u001b[1;32mwith\u001b[0m \u001b[0mPopen\u001b[0m\u001b[1;33m(\u001b[0m\u001b[1;33m*\u001b[0m\u001b[0mpopenargs\u001b[0m\u001b[1;33m,\u001b[0m \u001b[1;33m**\u001b[0m\u001b[0mkwargs\u001b[0m\u001b[1;33m)\u001b[0m \u001b[1;32mas\u001b[0m \u001b[0mprocess\u001b[0m\u001b[1;33m:\u001b[0m\u001b[1;33m\u001b[0m\u001b[0m\n\u001b[0;32m    404\u001b[0m         \u001b[1;32mtry\u001b[0m\u001b[1;33m:\u001b[0m\u001b[1;33m\u001b[0m\u001b[0m\n\u001b[1;32m--> 405\u001b[1;33m             \u001b[0mstdout\u001b[0m\u001b[1;33m,\u001b[0m \u001b[0mstderr\u001b[0m \u001b[1;33m=\u001b[0m \u001b[0mprocess\u001b[0m\u001b[1;33m.\u001b[0m\u001b[0mcommunicate\u001b[0m\u001b[1;33m(\u001b[0m\u001b[0minput\u001b[0m\u001b[1;33m,\u001b[0m \u001b[0mtimeout\u001b[0m\u001b[1;33m=\u001b[0m\u001b[0mtimeout\u001b[0m\u001b[1;33m)\u001b[0m\u001b[1;33m\u001b[0m\u001b[0m\n\u001b[0m\u001b[0;32m    406\u001b[0m         \u001b[1;32mexcept\u001b[0m \u001b[0mTimeoutExpired\u001b[0m\u001b[1;33m:\u001b[0m\u001b[1;33m\u001b[0m\u001b[0m\n\u001b[0;32m    407\u001b[0m             \u001b[0mprocess\u001b[0m\u001b[1;33m.\u001b[0m\u001b[0mkill\u001b[0m\u001b[1;33m(\u001b[0m\u001b[1;33m)\u001b[0m\u001b[1;33m\u001b[0m\u001b[0m\n",
      "\u001b[1;32mc:\\users\\administrator\\appdata\\local\\programs\\python\\python36\\lib\\subprocess.py\u001b[0m in \u001b[0;36mcommunicate\u001b[1;34m(self, input, timeout)\u001b[0m\n\u001b[0;32m    828\u001b[0m                 \u001b[0mself\u001b[0m\u001b[1;33m.\u001b[0m\u001b[0m_stdin_write\u001b[0m\u001b[1;33m(\u001b[0m\u001b[0minput\u001b[0m\u001b[1;33m)\u001b[0m\u001b[1;33m\u001b[0m\u001b[0m\n\u001b[0;32m    829\u001b[0m             \u001b[1;32melif\u001b[0m \u001b[0mself\u001b[0m\u001b[1;33m.\u001b[0m\u001b[0mstdout\u001b[0m\u001b[1;33m:\u001b[0m\u001b[1;33m\u001b[0m\u001b[0m\n\u001b[1;32m--> 830\u001b[1;33m                 \u001b[0mstdout\u001b[0m \u001b[1;33m=\u001b[0m \u001b[0mself\u001b[0m\u001b[1;33m.\u001b[0m\u001b[0mstdout\u001b[0m\u001b[1;33m.\u001b[0m\u001b[0mread\u001b[0m\u001b[1;33m(\u001b[0m\u001b[1;33m)\u001b[0m\u001b[1;33m\u001b[0m\u001b[0m\n\u001b[0m\u001b[0;32m    831\u001b[0m                 \u001b[0mself\u001b[0m\u001b[1;33m.\u001b[0m\u001b[0mstdout\u001b[0m\u001b[1;33m.\u001b[0m\u001b[0mclose\u001b[0m\u001b[1;33m(\u001b[0m\u001b[1;33m)\u001b[0m\u001b[1;33m\u001b[0m\u001b[0m\n\u001b[0;32m    832\u001b[0m             \u001b[1;32melif\u001b[0m \u001b[0mself\u001b[0m\u001b[1;33m.\u001b[0m\u001b[0mstderr\u001b[0m\u001b[1;33m:\u001b[0m\u001b[1;33m\u001b[0m\u001b[0m\n",
      "\u001b[1;31mUnicodeDecodeError\u001b[0m: 'gbk' codec can't decode byte 0xae in position 1673: illegal multibyte sequence"
     ]
    }
   ],
   "source": [
    "import subprocess\n",
    "import os\n",
    "#os.system('cmd1 && cmd2')\n",
    "cmd1 = \"chcp 65001\"\n",
    "cmd2 = \"..\\\\adb\\\\adb shell ls /mnt/sdcard/EhViewer/download\"\n",
    "cmd =  cmd2#cmd1 + \" && \" +\n",
    " \n",
    "#如下两种都可以运行\n",
    "p=subprocess.getoutput(cmd)#,stdout=subprocess.PIPE,stderr=subprocess.PIPE, shell=True\n",
    "print(p)"
   ]
  },
  {
   "cell_type": "code",
   "execution_count": 24,
   "metadata": {},
   "outputs": [
    {
     "name": "stdout",
     "output_type": "stream",
     "text": [
      "1062084-[RegDic]\\ Kimagure\\ Hanabira\\ +\\ Toranoana\\ Leaflet\\ [Chinese]\\ [無邪気漢化組] \r\n",
      "1095149-[Moketa]\\ Seisyun\\ Orgasm\\ \\ 性愛狩獵\\ [Chinese]                               \r\n",
      "1110518-[Moketa]\\ Hoshigari\\ Kanojo\\ -\\ She\\ Hankers\\ After\\ Sex\\ Only\\ [Chinese]      \r\n",
      "1144825-[Muneshiro]\\ Mesu\\ Kousei\\ [Chinese]                                           \r\n",
      "1219810-[Ikuhana\\ Niiro]\\ Ikujitsu\\ [English]\\ [Decensored]                            \r\n",
      "1228541-[KENZsoft]\\ Chou\\ Chijo\\ Maid!\\ 2\\ [animated]                                  \r\n",
      "1238057-[Asamine\\ Tel]\\ milking\\ [Chinese]                                             \r\n",
      "1246507-[Hinasaki\\ Yo]\\ Zutto\\ Daisuki\\ [Chinese]\\ [篆儀通文書坊漢化]                  \r\n",
      "1270073-(C94)\\ [Anmitsuyomogitei\\ (Michiking)]\\ Ohyakudo\\ Jouzu\\ no\\ Sanae-san\\ (Touhou\\ Project)\\ [Chinese]\\ [脸肿汉化组]\r\n",
      "1332805-[Seacoxx]\\ Zombie\\ no\\ Afureta\\ Sekai\\ de\\ Ore\\ dake\\ ga\\ Osowarenai           \r\n",
      "1337590-[kakao]\\ Hatsujou\\ Beam\\ -\\ Desirable\\ Beam\\ [Chinese]\\ [绅士仓库&篆儀通文書坊汉化]\r\n",
      "1348558-[Chicken]\\ Paco\\ Zakari\\ !\\ [Chinese]                                          \r\n",
      "1369128-[Shioroku]\\ Smapho\\ de\\ ii\\ nari\\ Juujun\\ Kanojo\\ [Chinese]                    \r\n",
      "1371164-[feng]\\ Yume\\ to\\ Iro\\ de\\ Dekiteiru                                           \r\n",
      "1375160-[Okumoto\\ Yuuta]\\ Hamechichi!\\ -\\ Let's\\ Make\\ Love\\ Oppai!\\ [Chinese]\\ [篆儀通文書坊漢化]\\ [Decensored]\r\n",
      "1379509-[Takahashi]\\ Lust\\ Geass\\ Vol.1\\ [Chinese]\\ [新月汉化组]                       \r\n",
      "1379550-[Bota\\ Mochito]\\ Milky\\ Time\\ [Chinese]\\ [無邪気漢化組]                        \r\n",
      "1384469-[Pennel]\\ Egao\\ no\\ Omoide\\ \\ 笑容的回憶\\ (COMIC\\ Kairakuten\\ BEAST\\ 2019-04)\\ [Chinese]\\ [兔司姬漢化組]\\ [Digital]\r\n",
      "1386661-[Itsutsuse]\\ Babbyu\\ Babyu\\ Babyu\\ [Chinese]\\ [無邪気漢化組&篆儀通文書坊漢化]  \r\n",
      "1409689-[Regdic]\\ Midara\\ Switch\\ -\\ Sensual\\ Switch\\ [chinese]                        \r\n",
      "1411823-[Mori\\ Takuya]\\ Shitaku\\ Nacchatta.\\ \\ 我變得好想要喔。\\ [Chinese]             \r\n",
      "1412623-[DMM.com]\\ Unitia                                                              \r\n",
      "1413661-[doumou]\\ Koi\\ Yagate\\ Midara\\ \\ 戀上後就淫亂\\ [chinese]                       \r\n",
      "1413834-[Gustav]\\ Reika\\ wa\\ Karei\\ na\\ Boku\\ no\\ Maid\\ [Chinese]\\ [無邪気漢化組]      \r\n",
      "1414243-[Koppe]\\ Shitataru\\ Onna\\ \\ 滴落女\\ [Chinese]                                  \r\n",
      "1415905-[Tamagoro]\\ Caramel\\ Hame-Art\\ \\ 焦糖般的香甜性愛\\ [chinese]                   \r\n",
      "1420540-[Homunculus]\\ Kyuuai\\ Étranger\\ -\\ un\\ étranger\\ se\\ fait\\ courtiser\\ [Chinese] \r\n",
      "1421448-[Esuke]\\ Hatsukoi\\ yori\\ Kimochi\\ Ii\\ -\\ Feels\\ so\\ good\\ than\\ my\\ first\\ love\\ \\ 比起初戀還要更舒服\\ [chinese]\r\n",
      "1423816-[DATE]\\ Doukyo\\ Suru\\ Neneki\\ CH1~6\\ [Chinese]\\ [洨五組]\\ [Digital]            \r\n",
      "1423851-[ASa\\ Project]\\ Suki\\ to\\ Suki\\ to\\ de\\ Sankaku\\ Renai\\ \\ Love\\ Triangle\\ Trouble\\ [Decensored]\r\n",
      "1426314-[Suihei\\ Sen]\\ Bungo\\ ni\\ neko\\ (COMIC\\ HOTMILK\\ 2019-07)\\ [Chinese]\\ [兔司姬漢化組]\\ [Digital]\r\n",
      "1428498-[Suzudama\\ Renri]\\ Milky\\ Memory\\ \\ 乳白色的淫靡記憶\\ [Chinese]                \r\n",
      "1429590-[Inu]\\ Hatsu\\ Inu\\ -\\ Anfang\\ Hund\\ [Chinese]\\ [Decensored]                    \r\n",
      "1429607-[Inu]\\ Hatsu\\ Inu\\ 3\\ -\\ Anfang\\ Hund\\ Drei\\ [Chinese]\\ [悠月工房]\\ [Decensored]\r\n",
      "1429608-[Inu]\\ Hatsu\\ Inu\\ 2\\ -\\ Anfang\\ Hund\\ Zwei\\ [Chinese]\\ [悠月工房]\\ [Decensored]\r\n",
      "1431245-[Tomono\\ Hiro]\\ Tadashii\\ Koubi\\ no\\ Susume\\ \\ 正確的交尾法推薦你\\ [Chinese]   \r\n",
      "1431989-[Fujimaru]\\ Kyouka\\ no\\ Niwa\\ (COMIC\\ Kairakuten\\ 2019-05)\\ [Chinese]\\ [期末考試不想復習靠著本子摸魚的個人漢化]\\ [Digital]\r\n",
      "1432930-[Rokkaku\\ Yasosuke]\\ Shinobu-chan\\ no\\ Sukusuku\\ Nikki\\ \\ 小忍妹妹的成長日記\\ (COMIC\\ Shitsurakuten\\ 2019-06)\\ [Chinese]\\ [我尻就變態✕無邪気漢化組]\\ [Digital]\r\n",
      "1434583-[Kizuka\\ Kazuki]\\ Sakari\\ Matsuri\\ \\ 發情的學園祭\\ [Chinese]                   \r\n",
      "1435309-[Shinobu\\ Tanei]\\ Imouto\\ no\\ Kiken\\ na\\ Anzenbi\\ \\ 繼妹的危險的安全日\\ [Chinese]\r\n",
      "1435468-[Nasipasuta]\\ Densha\\ no\\ Naka\\ de\\ \\ 在電車上\\ (COMIC\\ ExE\\ 18)\\ [Chinese]\\ [個人翻譯\\ by\\ 釀泉]\\ [Digital]\r\n",
      "1435699-[Kazakura]\\ Hana\\ Bira\\ Otome\\ \\ 花唇瓣乙女\\ [chinese]                         \r\n",
      "1435752-[Okara]\\ Cat\\ bite\\ \\ 裝乖巧女孩\\ [chinese]                                    \r\n",
      "1436505-[Ichinose\\ Land]\\ Fuwatoro\\ H\\ Land\\ [Chinese]                                 \r\n",
      "1437284-[Momoduki\\ Suzu]\\ Nametagari\\ -\\ I\\ am\\ crazy\\ about\\ you\\ and\\ will\\ be\\ bold.\\ \\ 想要舔不停\\ [chinese]\r\n",
      "1437296-[Kenji]\\ Karigogo\\ ~Nikuyoku\\ Shoujo~\\ 1-4\\ [Chinese]\\ [Digital]               \r\n",
      "1437360-[Tulip]\\ Hajimete\\ no\\ Succubus\\ no\\ Sotsugyou\\ Shiken\\ (COMIC\\ X-EROS\\ #72)\\ [Chinese]\\ [無邪気漢化組]\\ [Digital]\r\n",
      "1438040-[Herio]\\ Sukoshi\\ wa\\ Ganbare!\\ Meina-chan\\ (COMIC\\ ExE\\ 19)\\ [Chinese]\\ [超凹棒棒ㄐㄐ棒汁個人翻譯]\\ [Digital]\r\n",
      "1438139-[H9]\\ Mechax\\ Shiyo\\ \\ 翻天覆地的幹吧\\ [Chinese]                               \r\n",
      "1441167-[Izumiya\\ Otoha]\\ Hatsukoi\\ Melty\\ -\\ Melty\\ First\\ Love\\ \\ 初戀甜美溶化\\ [Chinese]\r\n",
      "1442303-[Kimirito]Ero\\ Manga\\ Hyogen\\ Shi\\ \\ 成人漫畫表現史[Chinese]                   \r\n",
      "1443315-[Herio]\\ Toshoshitsu\\ o\\ Shimete\\ kara\\ (COMIC\\ ExE\\ 18)\\ [Chinese]\\ [佳奈助汉化组]\\ [Digital]\r\n",
      "1443628-[Shimapan\\ (Tachibana\\ Omina)]\\ Isekai\\ Harem\\ Monogatari\\ Soushuuhen\\ 1\\ [Chinese]\r\n",
      "1444090-(C86)\\ [MTSP\\ (Jin)]\\ 橘さん家ノ男性事情\\ まとめ版\\ [中国翻訳]\\ [カラー化]\\ [無修正]-(C86)\\ [MTSP\\ (Jin)]\\ Tachibana-san-chi\\ no\\ Dansei\\ Jijou\\ Matome\\ Ban\\ [Chinese]\\ [天月NTR漢化組x配菜無修改圖]\\ [Colorized]\\ [Decensored]\r\n",
      "1444180-[Napata]\\ Sukidarake\\ [Chinese]\\ [脸肿汉化组]                                  \r\n",
      "1448836-[Tonnosuke]\\ Keiren\\ Love\\ Piston\\ -\\ Onee-san\\ wa\\ Hentai\\ Omocha\\ \\ 痙攣愛慾活塞運動\\ 大姊姊她是變態玩具\\ [Chinese]\r\n",
      "1451460-Artist\\ Galleries\\ \\ Arhoangel                                                 \r\n",
      "1451949-[Mikemono\\ Yuu]\\ Torokeru\\ Gohoubi\\ [Chinese]\\ [無邪気漢化組]                  \r\n",
      "1455345-[Nekomata\\ Naomi]\\ Onedari\\ Pussies\\ [Chinese]                                 \r\n",
      "1456935-[宇場義行]\\ ハレムスパイラル\\ [chinese]                                        \r\n",
      "1456937-[Shinozuka\\ Yuuji]\\ Hajimeteno\\ Hitozuma\\ [Chinese]                            \r\n",
      "1457670-[Saicoro\\ Chick\\ (Hinasaki)]\\ Houkago\\ no\\ Sasayaki\\ [Chinese]                 \r\n",
      "1458033-[DATE]\\ reincarnation\\ ~Ubawareta\\ Shoujo\\ no\\ Karada~\\ [Chinese]\\ [篆儀通文書坊漢化]\r\n",
      "1458155-[Ikuhana\\ Niro]\\ Ikujitsu\\ [Chinese]                                           \r\n",
      "1459302-[Kisen]\\ Seijo-tachi\\ no\\ Komoriuta\\ -\\ Heroines'\\ Lullaby\\ [Chinese]\\ [兔司姬X一匙咖啡豆聯合漢化]\r\n",
      "1459924-[Tsukimoto\\ Kizuki]\\ Sex\\ no\\ Yoshuu\\ Shimasen\\ ka\\ ~Seikou\\ no\\ Jitsugi\\ Shiken\\ ga\\ Dounyuu\\ Sareta\\ Shakai~\\ Ch.\\ 1\\ (COMIC\\ Ananga\\ Ranga\\ Vol.\\ 49)\\ [Chinese]\\ [無邪気漢化組]\r\n",
      "1462456-[Seacoxx]\\ Zombie\\ no\\ Afureta\\ Sekai\\ de\\ Ore\\ Dake\\ ga\\ Osowarenai\\ vol.2\\ \\ I\\ Walk\\ Among\\ Zombies\\ Vol.\\ 2\\ [Decensored]\r\n",
      "1462635-[Meme50]\\ Limit\\ Break\\ [Chinese\\ Translated]                                  \r\n",
      "1462653-[Shiwasu\\ no\\ Okina]\\ Ero\\ Pippi\\ \\ 慾情♡青春\\ [Chinese]\\ [未來數位中文]\\ [Digital]\r\n",
      "1463665-(C96)\\ [Anmitsuyomogitei\\ (Michiking)]\\ ANMITSU\\ TOUHOU\\ THE\\ AFTER\\ Vol.2\\ (Touhou\\ Project)\\ [Chinese]\\ [CE家族社×無邪気]\r\n",
      "1466070-[Yanyo]\\ Love\\ Sugi!\\ [Digital]\\ [Decensored]                                  \r\n",
      "1467027-[doumou]\\ Koi\\ Yagate\\ Midara\\ -\\ Nasty\\ after\\ Love.\\ [Chinese]\\ [篆儀通文書坊漢化]\r\n",
      "1467293-[A-10]\\ Load\\ of\\ Trash\\ Kanzenban\\ [Chinese]\\ [沒有漢化]                      \r\n",
      "1467340-[mon-petit]\\ Love\\ &\\ Libido\\ -\\ Kanojo-tachi\\ no\\ Seijijou\\ [chinese]         \r\n",
      "1470915-[Yamamoto\\ Yammy]\\ Nichijou\\ Bitch\\ Seitai\\ Kansatsu\\ [Chinese]\\ [無邪気漢化組] \r\n",
      "1474855-[DMM.com]\\ Unitia                                                              \r\n",
      "1481159-[Itsutsuse]\\ Puchupuri\\ Enkeki!\\ (コミックゼロス\\ #78)\\ [無邪気漢化組][MJK-19-Z1662][無修正]\r\n",
      "1481241-[Kirihara\\ You]\\ Motto\\ Meshimase\\ \\ 我們再多做幾次\\ [Chinese]                 \r\n",
      "1481768-[Ikeshita\\ Maue]\\ Choroane\\ Lovers\\ \\ 輕浮淫姊騷浪愛人們\\ [Chinese]            \r\n",
      "1483302-[Iwasaki\\ Yuuki]\\ Etsuran\\ Chuui\\ [Chinese]                                    \r\n",
      "1485286-[Tanaka\\ Naburu]\\ Seieki\\ Dorobou\\ [chinese]                                   \r\n",
      "1486271-[Key]\\ Hime\\ Hajime\\ (COMIC\\ Kairakuten\\ 2019-09)\\ [Chinese]\\ [國家機器逼我個人翻譯]\\ [Digital]\r\n",
      "1487213-[Thomas]\\ Puffy\\ Fragrance\\ [chinese]                                          \r\n",
      "1487814-[Asamine\\ Tel]\\ Onechan\\ Zanmai!\\ (COMIC\\ BAVEL\\ 2019-08)\\ [Chinese]\\ [佳奈助汉化组]\\ [Digital]\r\n",
      "1491761-[DATE]\\ Doukyo\\ Suru\\ Neneki\\ CH1~7\\ [Chinese]\\ [洨五組]\\ [Digital]            \r\n",
      "1493013-[Wakamesan]\\ Saretagari\\ [Chinese]                                             \r\n",
      "1493748-[Shindou]\\ Ojou-sama\\ to\\ Maid\\ no\\ Midara\\ na\\ Seikatsu\\ [Chinese]\\ [无毒汉化组]\r\n",
      "1497309-[Miyabi]\\ Iromeki\\ Dasu\\ Sekai\\ [Chinese]\\ [無邪気漢化組]                      \r\n",
      "1498155-[Henkuma]\\ Libido\\ [chinese]                                                   \r\n",
      "1498684-[Okumoto\\ Yuuta]\\ Hamechichi!\\ -\\ Let's\\ Make\\ Love\\ Oppai!\\ [Chinese]         \r\n",
      "1499965-[鳳まひろ]\\ 僕の異世界ハーレム\\ 総集編\\ 1\\ [chinese]                           \r\n",
      "1500147-[Katsurai\\ Yoshiaki]\\ Amatsuka\\ Gakuen\\ no\\ Ryoukan\\ Seikatsu\\ Ch.1-3\\ [Chinese]\r\n",
      "1501175-[Booch]\\ Ultra\\ Love\\ Love\\ Aishiteru!!\\ [Chinese]\\ [篆儀通文書坊漢化]         \r\n",
      "1501609-[Pei]\\ Hajirai\\ Honey\\ \\ 羞答答的小白兔\\ [Chinese]                             \r\n",
      "1503626-[Whirlpool]\\ Neko-nin\\ exHeart\\ 3\\ [Decensored]                                \r\n",
      "1504276-[Yagami\\ Shuuichi]\\ Kanrichuu\\ no\\ Sore\\ o\\ Shibatte\\ Agetai\\ \\ 管理中的那根想幫你緊緊綑綁住\\ [Chinese]\r\n",
      "1504425-[Yokoshima\\ Nikki]\\ Yokoshima\\ Musume                                          \r\n",
      "1504904-[绅士仓库汉化]\\ [もじゃりん]\\ 1回だけ\\ (COMIC快楽天\\ 2018年8月号)\\ [無修正]    \r\n",
      "1505690-[Akino\\ Sora]\\ Sleep\\ Learning\\ -Zenpen-\\ (COMIC\\ X-EROS\\ 79)\\ [Chinese]\\ [無邪気漢化組]\\ [Digital]\r\n",
      "1505699-[Akino\\ Sora]\\ Sleep\\ Learning\\ -Kouhen-\\ (COMIC\\ X-EROS\\ 80)\\ [Chinese]\\ [無邪気漢化組]\\ [Digital]\r\n",
      "1506396-[Jorori]\\ Kimi\\ ga\\ Suki。\\ 好喜歡你。[Chinese]                                \r\n",
      "1508143-[Barlun]\\ Majime\\ de\\ Megane\\ na\\ Oppai-tachi\\ \\ 很正經又戴眼鏡的美乳寶貝們\\ [Chinese]\r\n",
      "1508506-Sky-Freedom\\ (スカイ)\\ -\\ JK\\ Rich\\ Thots\\ (Complete)                          \r\n",
      "1511994-[Kazakura]\\ Hana\\ Bira\\ Otome\\ [Chinese]\\ [篆儀通文書坊漢化]                   \r\n",
      "1512978-[Yuuki\\ Shin]\\ Ecchi\\ Life!(傲娇零の间隙娘扫图)                                \r\n",
      "1515784-[Takeda\\ Hiromitsu]\\ Ima\\ Ria\\ [Chinese]\\ [空気系☆漢化]                        \r\n",
      "1516869-[Muneshiro]\\ Dekiai\\ Koubi\\ [Chinese]                                          \r\n",
      "938765-[Asamine\\ Tel]\\ Kyuuai\\ Mental\\ [Chinese]\\ [大仙个人汉化]\\ [Digital]            \r\n",
      "953232-[Ashiomi\\ Masato]\\ D-Medal\\ [Chinese]\\ [無邪気漢化組]                           \r\n",
      "\n"
     ]
    }
   ],
   "source": [
    "import subprocess\n",
    "import os\n",
    "#os.system('cmd1 && cmd2')\n",
    "cmd1 = \"chcp 65001\"\n",
    "cmd2 = \"..\\\\adb\\\\adb shell ls /mnt/sdcard/EhViewer/download\"\n",
    "cmd =  cmd2#cmd1 + \" && \" +\n",
    " \n",
    "#如下两种都可以运行\n",
    "p=subprocess.Popen(cmd, shell=True, stdin=subprocess.PIPE,stdout=subprocess.PIPE,stderr=subprocess.PIPE)#, shell=True\n",
    "out=p.stdout.read().decode(\"utf-8\")\n",
    "print(out)"
   ]
  },
  {
   "cell_type": "code",
   "execution_count": null,
   "metadata": {},
   "outputs": [],
   "source": []
  }
 ],
 "metadata": {
  "kernelspec": {
   "display_name": "Python 3",
   "language": "python",
   "name": "python3"
  },
  "language_info": {
   "codemirror_mode": {
    "name": "ipython",
    "version": 3
   },
   "file_extension": ".py",
   "mimetype": "text/x-python",
   "name": "python",
   "nbconvert_exporter": "python",
   "pygments_lexer": "ipython3",
   "version": "3.6.3"
  }
 },
 "nbformat": 4,
 "nbformat_minor": 2
}

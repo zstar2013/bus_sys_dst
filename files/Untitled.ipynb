{
 "cells": [
  {
   "cell_type": "code",
   "execution_count": 1,
   "metadata": {},
   "outputs": [],
   "source": [
    "import os"
   ]
  },
  {
   "cell_type": "code",
   "execution_count": 2,
   "metadata": {},
   "outputs": [
    {
     "data": {
      "text/plain": [
       "'D:\\\\python_projects\\\\bus_sys_dst\\\\files'"
      ]
     },
     "execution_count": 2,
     "metadata": {},
     "output_type": "execute_result"
    },
    {
     "data": {
      "text/plain": [
       "['.ipynb_checkpoints', 'source', 'target', 'Untitled.ipynb']"
      ]
     },
     "execution_count": 2,
     "metadata": {},
     "output_type": "execute_result"
    }
   ],
   "source": [
    "os.getcwd()\n",
    "os.listdir()"
   ]
  },
  {
   "cell_type": "code",
   "execution_count": 3,
   "metadata": {},
   "outputs": [],
   "source": [
    "path_source=\"G:\\\\pythonproject\\\\bus_sys_dst\\\\files\\\\source\"\n",
    "path_target=\"G:\\\\pythonproject\\\\bus_sys_dst\\\\files\\\\target\""
   ]
  },
  {
   "cell_type": "code",
   "execution_count": 4,
   "metadata": {},
   "outputs": [
    {
     "data": {
      "text/plain": [
       "['1.txt', '2.txt', 'aaa.txt', 'aaa']"
      ]
     },
     "execution_count": 4,
     "metadata": {},
     "output_type": "execute_result"
    },
    {
     "data": {
      "text/plain": [
       "['aaa.zip', '2.zip', '1.zip']"
      ]
     },
     "execution_count": 4,
     "metadata": {},
     "output_type": "execute_result"
    }
   ],
   "source": [
    "os.listdir(path_source)\n",
    "os.listdir(path_target)"
   ]
  },
  {
   "cell_type": "code",
   "execution_count": 5,
   "metadata": {},
   "outputs": [
    {
     "data": {
      "text/plain": [
       "<_sre.SRE_Match object; span=(0, 16), match='(ゲームCG) [160729]'>"
      ]
     },
     "execution_count": 5,
     "metadata": {},
     "output_type": "execute_result"
    }
   ],
   "source": [
    "import re\n",
    "pattern=\"\\(ゲームCG\\) \\[\\d{6}\\]\"\n",
    "string=\"(ゲームCG) [160729] [パープルソフトウェア] アマツツミ\"\n",
    "result=re.search(pattern,string)\n",
    "result"
   ]
  },
  {
   "cell_type": "code",
   "execution_count": 22,
   "metadata": {},
   "outputs": [],
   "source": [
    "def check_diff(path_a,path_b,suffix_a='.txt',suffix_b='.zip'):\n",
    "    list_a=[]\n",
    "    list_b=[]\n",
    "    for root, dirs, files in os.walk(path_a, topdown=False):\n",
    "        for file in files:\n",
    "            if os.path.splitext(file)[1] == suffix_a:\n",
    "                list_a.append(os.path.splitext(file)[0])\n",
    "    for root, dirs, files in os.walk(path_b, topdown=False):\n",
    "        for file in files:\n",
    "            if os.path.splitext(file)[1] == suffix_b:\n",
    "                list_b.append(os.path.splitext(file)[0])\n",
    "    print(\"a\",set(list_a))\n",
    "    print(\"b\",set(list_b))\n",
    "    diff = set(list_a).difference(set(list_b))# 差集，在a中但不在b中的元素\n",
    "    print(len(diff))\n",
    "    for name in diff:\n",
    "        print(\"no\" ,suffix_b[1:]+\"  \"+name + suffix_b)\n",
    "    diff2 = set(list_b).difference(set(list_a))# 差集，在b中但不在a中的元素\n",
    "    print(len(diff2))\n",
    "    for name in diff2:\n",
    "        print(\"no\" ,suffix_a[1:]+\"  \"+ name + suffix_a)"
   ]
  },
  {
   "cell_type": "code",
   "execution_count": 23,
   "metadata": {},
   "outputs": [],
   "source": [
    "path_source=\"G:\\\\pythonproject\\\\bus_sys_dst\\\\files\\\\source\"\n",
    "path_target=\"G:\\\\pythonproject\\\\bus_sys_dst\\\\files\\\\target\""
   ]
  },
  {
   "cell_type": "code",
   "execution_count": 51,
   "metadata": {},
   "outputs": [],
   "source": [
    "def check_diff2(path_a,path_b,suffix='.zip'):\n",
    "    list_a=[]\n",
    "    list_b=[]\n",
    "    \n",
    "    for file in os.listdir(path_source):\n",
    "        if os.path.isdir(os.path.join(path_source,file)):\n",
    "            list_a.append(file)\n",
    "    for root, dirs, files in os.walk(path_b, topdown=False):\n",
    "        for file in files:\n",
    "            if os.path.splitext(file)[1] == suffix:\n",
    "                list_b.append(os.path.splitext(file)[0])\n",
    "    print(\"a\",set(list_a))\n",
    "    print(\"b\",set(list_b))\n",
    "    diff = set(list_a).difference(set(list_b))# 差集，在a中但不在b中的元素\n",
    "    print(len(diff))\n",
    "    for name in diff:\n",
    "        print(\"no\" ,suffix[1:]+\"  \"+name + suffix)\n",
    "    diff2 = set(list_b).difference(set(list_a))# 差集，在b中但不在a中的元素\n",
    "    print(len(diff2))\n",
    "    for name in diff2:\n",
    "        print(\"no dir：  \"+ name)"
   ]
  },
  {
   "cell_type": "code",
   "execution_count": 52,
   "metadata": {},
   "outputs": [],
   "source": [
    "path_source=\"G:\\\\pythonproject\\\\bus_sys_dst\\\\files\\\\source\"\n",
    "path_target=\"G:\\\\pythonproject\\\\bus_sys_dst\\\\files\\\\target\""
   ]
  },
  {
   "cell_type": "code",
   "execution_count": 53,
   "metadata": {},
   "outputs": [
    {
     "name": "stdout",
     "output_type": "stream",
     "text": [
      "a {'aaa'}\n",
      "b {'aaa', '1', '2'}\n",
      "0\n",
      "2\n",
      "no dir：  1\n",
      "no dir：  2\n"
     ]
    }
   ],
   "source": [
    "check_diff2(path_source,path_target)"
   ]
  },
  {
   "cell_type": "code",
   "execution_count": 33,
   "metadata": {},
   "outputs": [
    {
     "name": "stdout",
     "output_type": "stream",
     "text": [
      "[]\n",
      "['bbb']\n",
      "['aaa']\n"
     ]
    }
   ],
   "source": [
    "for root, dirs, files in os.walk(path_source,topdown=False):\n",
    "    print(dirs)"
   ]
  },
  {
   "cell_type": "code",
   "execution_count": 35,
   "metadata": {},
   "outputs": [
    {
     "data": {
      "text/plain": [
       "['1.txt', '2.txt', 'aaa.txt', 'aaa']"
      ]
     },
     "execution_count": 35,
     "metadata": {},
     "output_type": "execute_result"
    }
   ],
   "source": [
    "os.listdir(path_source)"
   ]
  },
  {
   "cell_type": "code",
   "execution_count": 56,
   "metadata": {},
   "outputs": [],
   "source": [
    "import zipfile\n",
    "def zipDir(dirpath,outFullName):\n",
    "    \"\"\"\n",
    "    压缩指定文件夹\n",
    "    :param dirpath: 目标文件夹路径\n",
    "    :param outFullName: 压缩文件保存路径+xxxx.zip\n",
    "    :return: 无\n",
    "    \"\"\"\n",
    "    zip = zipfile.ZipFile(outFullName,\"w\",zipfile.ZIP_DEFLATED)\n",
    "    for path,dirnames,filenames in os.walk(dirpath):\n",
    "        # 去掉目标跟路径，只对目标文件夹下边的文件及文件夹进行压缩\n",
    "        fpath = path.replace(dirpath,'')\n",
    "\n",
    "        for filename in filenames:\n",
    "            zip.write(os.path.join(path,filename),os.path.join(fpath,filename))\n",
    "    zip.close()"
   ]
  },
  {
   "cell_type": "code",
   "execution_count": 57,
   "metadata": {},
   "outputs": [],
   "source": [
    "zipDir(\"G:\\\\pythonproject\\\\bus_sys_dst\\\\files\\\\source\",\"G:\\\\pythonproject\\\\bus_sys_dst\\\\files\\\\target\\\\123.zip\")"
   ]
  },
  {
   "cell_type": "code",
   "execution_count": null,
   "metadata": {},
   "outputs": [],
   "source": []
  }
 ],
 "metadata": {
  "kernelspec": {
   "display_name": "Python 3",
   "language": "python",
   "name": "python3"
  },
  "language_info": {
   "codemirror_mode": {
    "name": "ipython",
    "version": 3
   },
   "file_extension": ".py",
   "mimetype": "text/x-python",
   "name": "python",
   "nbconvert_exporter": "python",
   "pygments_lexer": "ipython3",
   "version": "3.6.3"
  }
 },
 "nbformat": 4,
 "nbformat_minor": 2
}
